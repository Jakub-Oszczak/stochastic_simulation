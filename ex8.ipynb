{
 "cells": [
  {
   "cell_type": "code",
   "execution_count": 2,
   "metadata": {},
   "outputs": [],
   "source": [
    "import numpy as np\n",
    "import scipy.stats as stats"
   ]
  },
  {
   "cell_type": "markdown",
   "metadata": {},
   "source": [
    "# Exercise 8\n",
    "#### Bootstraping\n",
    "---\n"
   ]
  },
  {
   "cell_type": "markdown",
   "metadata": {},
   "source": [
    "### 1."
   ]
  },
  {
   "cell_type": "markdown",
   "metadata": {},
   "source": [
    "The bootstrap is a resampling technique used to estimate statistics on a dataset. It involves repeatedly drawing samples from a dataset with replacement and calculating the statistic of interest across these samples. So to achieve what we want we can use bootstraping to generate e.g. 1000 bootstraped datasets of random variables and then for each calculate the mean. That should allow us to get the estimation of mean since bootstrap method assumes that \"bootstraped\" datasets reflect the statistical properties of the full original dataset.\n",
    "Then we simply check if the condition is met for each bootstraped dataset and then calculate the probability."
   ]
  },
  {
   "cell_type": "code",
   "execution_count": 11,
   "metadata": {},
   "outputs": [
    {
     "name": "stdout",
     "output_type": "stream",
     "text": [
      "Probability of the condition being fulfilled is: 0.77\n"
     ]
    }
   ],
   "source": [
    "def bootstrap(data):\n",
    "    size = len(data)\n",
    "    return np.random.choice(data, size, replace=True)\n",
    "\n",
    "number_of_repetitions = 1000\n",
    "data = np.array([56, 101, 78, 67, 93, 87, 64, 72, 80, 69])\n",
    "a = -5\n",
    "b = 5\n",
    "counter = 0\n",
    "\n",
    "for i in range(number_of_repetitions):\n",
    "    bootstraped_data = bootstrap(data)\n",
    "    mean = np.mean(bootstraped_data)\n",
    "    condition_check = (a < sum(data/len(data))-mean) & (sum(data/len(data))-mean < b)\n",
    "    if condition_check: counter += 1\n",
    "\n",
    "p = counter/number_of_repetitions\n",
    "\n",
    "print(\"Probability of the condition being fulfilled is:\",p)"
   ]
  },
  {
   "cell_type": "markdown",
   "metadata": {},
   "source": [
    "### 2."
   ]
  },
  {
   "cell_type": "markdown",
   "metadata": {},
   "source": [
    "We can estimate the variance with help of bootstraping in the same fashion as we have estimated the mean in the previous exercise."
   ]
  },
  {
   "cell_type": "code",
   "execution_count": 32,
   "metadata": {},
   "outputs": [
    {
     "name": "stdout",
     "output_type": "stream",
     "text": [
      "The bootstrap estimate of Var(S^2) is: 59.90100593436975\n"
     ]
    }
   ],
   "source": [
    "data = np.array([5,4,9,6,21,17,11,20,7,10,21,15,13,16,8])\n",
    "number_of_repetitions = 1000\n",
    "sample_variance = []\n",
    "\n",
    "for i in range(number_of_repetitions):\n",
    "    bootstraped_data = bootstrap(data)\n",
    "    sample_variance.append(np.sum(((bootstraped_data - np.mean(bootstraped_data))**2))/(len(bootstraped_data)-1))\n",
    "    \n",
    "print(\"The bootstrap estimate of Var(S^2) is:\", np.sum(((sample_variance - np.mean(sample_variance))**2))/(len(sample_variance)-1))"
   ]
  },
  {
   "cell_type": "markdown",
   "metadata": {},
   "source": [
    "### 3."
   ]
  },
  {
   "cell_type": "markdown",
   "metadata": {},
   "source": [
    "#### a) Mean and Median of the original dataset"
   ]
  },
  {
   "cell_type": "code",
   "execution_count": 35,
   "metadata": {},
   "outputs": [
    {
     "name": "stdout",
     "output_type": "stream",
     "text": [
      "mean: 5.719887959193138\n",
      "median: 1.9921354846408907\n"
     ]
    }
   ],
   "source": [
    "N = 200\n",
    "data = stats.pareto.rvs(1.05, scale=1, size=N)\n",
    "\n",
    "print(\"mean:\",np.mean(data))\n",
    "print(\"median:\",np.median(data))"
   ]
  },
  {
   "cell_type": "markdown",
   "metadata": {},
   "source": [
    "#### b) Bootstrap estimation of Variance of sample mean"
   ]
  },
  {
   "cell_type": "markdown",
   "metadata": {},
   "source": [
    "To get the bootstrap estimation of the variance of the sample mean, we need to make bootstraped datasets and then calculate means for them so we can next calculate the variance of those means."
   ]
  },
  {
   "cell_type": "code",
   "execution_count": 52,
   "metadata": {},
   "outputs": [
    {
     "name": "stdout",
     "output_type": "stream",
     "text": [
      "Bootstraped variance of sample mean is: 2.3323383273053158\n"
     ]
    }
   ],
   "source": [
    "number_of_repetitions = 100\n",
    "bootstraped_means = []\n",
    "\n",
    "for _ in range(number_of_repetitions):\n",
    "    bootstraped_data = bootstrap(data)\n",
    "    bootstraped_means.append(np.mean(bootstraped_data))\n",
    "\n",
    "bootstraped_variance_of_mean = np.var(bootstraped_means, ddof=1)\n",
    "\n",
    "print(\"Bootstraped variance of sample mean is:\", bootstraped_variance_of_mean)"
   ]
  },
  {
   "cell_type": "markdown",
   "metadata": {},
   "source": [
    "#### c) Bootstrap estimation of Variance of sample median"
   ]
  },
  {
   "cell_type": "markdown",
   "metadata": {},
   "source": [
    "Similarly we can calculate the bootstrap estimation of variance of sample median.  "
   ]
  },
  {
   "cell_type": "code",
   "execution_count": 54,
   "metadata": {},
   "outputs": [
    {
     "name": "stdout",
     "output_type": "stream",
     "text": [
      "Bootstraped variance of sample median is: 0.02291679046407597\n"
     ]
    }
   ],
   "source": [
    "number_of_repetitions = 100\n",
    "bootstraped_medians = []\n",
    "\n",
    "for _ in range(number_of_repetitions):\n",
    "    bootstraped_data = bootstrap(data)\n",
    "    bootstraped_medians.append(np.median(bootstraped_data))\n",
    "\n",
    "bootstraped_variance_of_median = np.var(bootstraped_medians, ddof=1)\n",
    "\n",
    "print(\"Bootstraped variance of sample median is:\", bootstraped_variance_of_median)"
   ]
  },
  {
   "cell_type": "markdown",
   "metadata": {},
   "source": [
    "#### d) Precision of estimated median and mean"
   ]
  },
  {
   "cell_type": "code",
   "execution_count": 55,
   "metadata": {},
   "outputs": [
    {
     "name": "stdout",
     "output_type": "stream",
     "text": [
      "True mean: 5.719887959193138\n",
      "True median: 1.9921354846408907\n",
      "Bootstraped variance of sample mean is: 2.3323383273053158\n",
      "Bootstraped variance of sample median is: 0.02291679046407597\n"
     ]
    }
   ],
   "source": [
    "print(\"True mean:\",np.mean(data))\n",
    "print(\"True median:\",np.median(data))\n",
    "\n",
    "print(\"Bootstraped variance of sample mean is:\", bootstraped_variance_of_mean)\n",
    "print(\"Bootstraped variance of sample median is:\", bootstraped_variance_of_median)"
   ]
  },
  {
   "cell_type": "markdown",
   "metadata": {},
   "source": [
    "The lower variance of the median (0.0229) compared to the variance of the mean (2.3323) indicates that the median is a more precise. It is less sensitive to outliers and extreme values, which can significantly influence the mean and elevate the variance. The outcome will depend on the distribution used and its tendency to generate extreme values on one side."
   ]
  }
 ],
 "metadata": {
  "language_info": {
   "name": "python"
  }
 },
 "nbformat": 4,
 "nbformat_minor": 2
}
